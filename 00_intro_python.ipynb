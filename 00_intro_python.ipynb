{
  "nbformat": 4,
  "nbformat_minor": 0,
  "metadata": {
    "colab": {
      "provenance": [],
      "authorship_tag": "ABX9TyOAQRhl7IQ2U2z/2mVcRa/A",
      "include_colab_link": true
    },
    "kernelspec": {
      "name": "python3",
      "display_name": "Python 3"
    },
    "language_info": {
      "name": "python"
    }
  },
  "cells": [
    {
      "cell_type": "markdown",
      "metadata": {
        "id": "view-in-github",
        "colab_type": "text"
      },
      "source": [
        "<a href=\"https://colab.research.google.com/github/OmerMumtaz3590/Python-step-00/blob/main/00_intro_python.ipynb\" target=\"_parent\"><img src=\"https://colab.research.google.com/assets/colab-badge.svg\" alt=\"Open In Colab\"/></a>"
      ]
    },
    {
      "cell_type": "code",
      "execution_count": 4,
      "metadata": {
        "colab": {
          "base_uri": "https://localhost:8080/"
        },
        "id": "JvSI-6s8xe3R",
        "outputId": "6bf59ea5-2bf3-43dc-9fd8-f0079de02347"
      },
      "outputs": [
        {
          "output_type": "stream",
          "name": "stdout",
          "text": [
            "01_add_two_numbers\n",
            "his application is for adding two numbers\n",
            "Enter your first number5\n",
            "Enter your second number8\n",
            "Total sum of 5 and 8 is 13\n"
          ]
        }
      ],
      "source": [
        "print(\"01_add_two_numbers\")\n",
        "\n",
        "def add():\n",
        "  print(\"his application is for adding two numbers\")\n",
        "  first_number = int(input(\"Enter your first number\"))\n",
        "  second_number = int(input(\"Enter your second number\"))\n",
        "  total = int(first_number + second_number)\n",
        "  print(f\"Total sum of {first_number} and {second_number} is {total}\") #Corrected f-string\n",
        "\n",
        "if __name__ == \"__main__\":\n",
        "  add()\n",
        "\n",
        "\n",
        "\n",
        "\n",
        ""
      ]
    },
    {
      "cell_type": "code",
      "source": [
        "print(\"02_agreement_bot\")\n",
        "\n",
        "def bot():\n",
        "  animal = str(input(\"What's your favourite animal is \"))\n",
        "  print(f\"My favorite animal is also {animal}:\")\n",
        "\n",
        "if __name__ == \"__main__\":\n",
        "  bot()"
      ],
      "metadata": {
        "colab": {
          "base_uri": "https://localhost:8080/"
        },
        "id": "RyL8AHRULzbB",
        "outputId": "af1162c2-ea24-46c7-f809-820505477883"
      },
      "execution_count": 7,
      "outputs": [
        {
          "output_type": "stream",
          "name": "stdout",
          "text": [
            "02_agreement_bot\n",
            "What's your favourite animal is cat\n",
            "My favorite animal is also cat:\n"
          ]
        }
      ]
    },
    {
      "cell_type": "code",
      "source": [
        "print(\"03_fahrenheit_to_celsius\")\n",
        "\n",
        "def temp():\n",
        "  print(\"This code is for converting fahrenheit to celsius\")\n",
        "  fahrenheit_degree = float(input(\"Enter your fahrenheit degree \"))\n",
        "  celsius_degree = (fahrenheit_degree - 32) * 5/9\n",
        "  print(f\"Temperature {fahrenheit_degree}F = {celsius_degree}C\")\n",
        "\n",
        "if __name__ == \"__main__\":\n",
        "  temp()"
      ],
      "metadata": {
        "colab": {
          "base_uri": "https://localhost:8080/"
        },
        "id": "KKu1iqQ7NCUV",
        "outputId": "08bb4844-ff75-425f-f9fc-454df7cb7e87"
      },
      "execution_count": 10,
      "outputs": [
        {
          "output_type": "stream",
          "name": "stdout",
          "text": [
            "03_fahrenheit_to_celsius\n",
            "This code is for converting fahrenheit to celsius\n",
            "Enter your fahrenheit degree 65\n",
            "Temperature 65.0F = 18.333333333333332C\n"
          ]
        }
      ]
    },
    {
      "cell_type": "code",
      "source": [
        "print(\"04_how_old_are_they\")\n",
        "\n",
        "def add_ages():\n",
        "\n",
        "  anthon:int = 21;\n",
        "  beth:int = anthon + 6;\n",
        "  chan:int = beth + 20\n",
        "  drew:int = chan + anthon\n",
        "  ethan:int = chan\n",
        "\n",
        "  print(\"Anthon is \" + str(anthon))\n",
        "  print(\"Beth is \" + str(beth))\n",
        "  print(\"Chan is \" + str(chan))\n",
        "  print (\"Drew is \" + str(drew))\n",
        "  print(\"Ethan is \" + str(ethan))\n",
        "\n",
        "if __name__ == \"__main__\":\n",
        "  add_ages()\n"
      ],
      "metadata": {
        "colab": {
          "base_uri": "https://localhost:8080/"
        },
        "id": "teDDOO2mPt30",
        "outputId": "41b36651-813c-4e58-9e9d-3f8b64c4535b"
      },
      "execution_count": 13,
      "outputs": [
        {
          "output_type": "stream",
          "name": "stdout",
          "text": [
            "04_how_old_are_they\n",
            "Anthon is 21\n",
            "Beth is 27\n",
            "Chan is 47\n",
            "Drew is 68\n",
            "Ethan is 47\n"
          ]
        }
      ]
    },
    {
      "cell_type": "code",
      "source": [
        "print(\"05_triangle_perimeter\")\n",
        "\n",
        "def triangle():\n",
        "  print(\"This code is for calculating triangle perimeter\")\n",
        "  side1:float = float(input(\"Enter your first side \"))\n",
        "  side2:float = float(input(\"Enter your second side \"))\n",
        "  side3:float = float(input(\"Enter your third side \"))\n",
        "  perimeter:float = side1 + side2 + side3\n",
        "  print(f\"Perimeter of triangle is {perimeter}\")\n",
        "if __name__ == \"__main__\":\n",
        "  triangle()"
      ],
      "metadata": {
        "colab": {
          "base_uri": "https://localhost:8080/"
        },
        "id": "_8r6cHjCTm7E",
        "outputId": "7aa68202-6811-4fa5-bac6-335437610c56"
      },
      "execution_count": 17,
      "outputs": [
        {
          "output_type": "stream",
          "name": "stdout",
          "text": [
            "05_triangle_perimeter\n",
            "This code is for calculating triangle perimeter\n",
            "Enter your first side 5\n",
            "Enter your second side 10\n",
            "Enter your third side 18\n",
            "Perimeter of triangle is 33.0\n"
          ]
        }
      ]
    },
    {
      "cell_type": "code",
      "source": [
        "print(\"06_square_number\")\n",
        "\n",
        "def square():\n",
        "  print(\"This code is about square of given number\")\n",
        "  num1:int = int(input(\"Enter your number: \"))\n",
        "  print(f\"Square of {num1} is = {num1 ** 2}\")\n",
        "\n",
        "if __name__ == \"__main__\":\n",
        "   square()\n"
      ],
      "metadata": {
        "colab": {
          "base_uri": "https://localhost:8080/"
        },
        "id": "SBNg5AQ6UrLV",
        "outputId": "ee967dd9-a045-4487-f284-cf29749b30f7"
      },
      "execution_count": 21,
      "outputs": [
        {
          "output_type": "stream",
          "name": "stdout",
          "text": [
            "06_square_number\n",
            "This code is about square of given number\n",
            "Enter your number: 5\n",
            "Square of 5 is = 25\n"
          ]
        }
      ]
    }
  ]
}